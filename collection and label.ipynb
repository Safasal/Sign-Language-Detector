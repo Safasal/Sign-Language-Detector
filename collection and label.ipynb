{
 "cells": [
  {
   "cell_type": "markdown",
   "id": "fa42f21e",
   "metadata": {},
   "source": [
    "Create a folder on your computer \"xxx\"\n",
    "Using Terminal navigate to xxx and then:\n",
    "1- Create a new virtual environment: \"python -m venv tfod\"\n",
    "2- Activate the virtual environment: \"source tfod/bin/activate\"\n",
    "3- Install dependencies and add virtual environment the Kernel: \"python -m pip install --upgrade pip\n",
    "pip install ipykernel\n",
    "python -m ipykernel install --user --name=tfodj\"\n",
    "4- and then call jupyter notebook."
   ]
  },
  {
   "cell_type": "code",
   "execution_count": 136,
   "id": "cd1fdcc7",
   "metadata": {},
   "outputs": [
    {
     "name": "stdout",
     "output_type": "stream",
     "text": [
      "Defaulting to user installation because normal site-packages is not writeable\n",
      "\u001b[33mWARNING: Ignoring invalid distribution -umpy (/Users/safasalih/Library/Python/3.8/lib/python/site-packages)\u001b[0m\u001b[33m\n",
      "\u001b[0m\u001b[33mWARNING: Ignoring invalid distribution -umpy (/Users/safasalih/Library/Python/3.8/lib/python/site-packages)\u001b[0m\u001b[33m\n",
      "\u001b[0mCollecting pip==19.0.3\n",
      "  Using cached pip-19.0.3-py2.py3-none-any.whl (1.4 MB)\n",
      "\u001b[33mWARNING: Ignoring invalid distribution -umpy (/Users/safasalih/Library/Python/3.8/lib/python/site-packages)\u001b[0m\u001b[33m\n",
      "\u001b[0mInstalling collected packages: pip\n",
      "  Attempting uninstall: pip\n",
      "\u001b[33m    WARNING: Ignoring invalid distribution -umpy (/Users/safasalih/Library/Python/3.8/lib/python/site-packages)\u001b[0m\u001b[33m\n",
      "\u001b[0m    Found existing installation: pip 22.3.1\n",
      "    Uninstalling pip-22.3.1:\n",
      "      Successfully uninstalled pip-22.3.1\n",
      "\u001b[33m  WARNING: The scripts pip, pip3 and pip3.8 are installed in '/Users/safasalih/Library/Python/3.8/bin' which is not on PATH.\n",
      "  Consider adding this directory to PATH or, if you prefer to suppress this warning, use --no-warn-script-location.\n",
      "  NOTE: The current PATH contains path(s) starting with `~`, which may not be expanded by all applications.\u001b[0m\u001b[33m\n",
      "\u001b[0m\u001b[33mWARNING: Ignoring invalid distribution -umpy (/Users/safasalih/Library/Python/3.8/lib/python/site-packages)\u001b[0m\u001b[33m\n",
      "\u001b[0mSuccessfully installed pip-19.0.3\n",
      "\u001b[33mWARNING: Ignoring invalid distribution -umpy (/Users/safasalih/Library/Python/3.8/lib/python/site-packages)\u001b[0m\u001b[33m\n",
      "\u001b[0m\u001b[33mWARNING: Ignoring invalid distribution -umpy (/Users/safasalih/Library/Python/3.8/lib/python/site-packages)\u001b[0m\u001b[33m\n",
      "\u001b[0m\u001b[33mWARNING: Ignoring invalid distribution -umpy (/Users/safasalih/Library/Python/3.8/lib/python/site-packages)\u001b[0m\u001b[33m\n",
      "\u001b[0m"
     ]
    }
   ],
   "source": [
    "!python -m pip install --upgrade pip==19.0.3"
   ]
  },
  {
   "cell_type": "code",
   "execution_count": 19,
   "id": "4dda773a",
   "metadata": {},
   "outputs": [
    {
     "name": "stdout",
     "output_type": "stream",
     "text": [
      "Collecting opencv-python==4.4.0.42\n",
      "  Using cached https://files.pythonhosted.org/packages/3e/a2/4921b798923d956a24a5556ac115872251d595eac8a1c343d6536e754456/opencv_python-4.4.0.42-cp38-cp38-macosx_10_13_x86_64.whl\n",
      "Collecting numpy>=1.17.3 (from opencv-python==4.4.0.42)\n",
      "  Using cached https://files.pythonhosted.org/packages/3c/d0/d7d0b6af9a434b3ee271b02ada553b1c781294bff012b19318886f86c395/numpy-1.23.4-cp38-cp38-macosx_10_9_x86_64.whl\n",
      "Installing collected packages: numpy, opencv-python\n",
      "\u001b[31mCould not install packages due to an EnvironmentError: [Errno 13] Permission denied: '/Library/Python/3.8/site-packages/numpy-1.23.4.dist-info'\n",
      "Consider using the `--user` option or check the permissions.\n",
      "\u001b[0m\n",
      "\u001b[33mYou are using pip version 19.0.3, however version 22.3 is available.\n",
      "You should consider upgrading via the 'pip install --upgrade pip' command.\u001b[0m\n"
     ]
    }
   ],
   "source": [
    "!pip install opencv-python= =4.4.0.42"
   ]
  },
  {
   "cell_type": "code",
   "execution_count": 3,
   "id": "bf07abd4",
   "metadata": {},
   "outputs": [
    {
     "name": "stdout",
     "output_type": "stream",
     "text": [
      "Collecting opencv-python\n",
      "  Using cached https://files.pythonhosted.org/packages/bc/71/4575227302db0b95bbf635dd87f2c58339f84c6e63ade1afc7d332414da2/opencv_python-4.6.0.66-cp36-abi3-macosx_10_15_x86_64.whl\n",
      "Collecting numpy>=1.17.3; python_version >= \"3.8\" (from opencv-python)\n",
      "  Using cached https://files.pythonhosted.org/packages/3c/d0/d7d0b6af9a434b3ee271b02ada553b1c781294bff012b19318886f86c395/numpy-1.23.4-cp38-cp38-macosx_10_9_x86_64.whl\n",
      "Installing collected packages: numpy, opencv-python\n",
      "\u001b[33m  The scripts f2py, f2py3 and f2py3.8 are installed in '/Users/safasalih/Library/Python/3.8/bin' which is not on PATH.\n",
      "  Consider adding this directory to PATH or, if you prefer to suppress this warning, use --no-warn-script-location.\u001b[0m\n",
      "Successfully installed numpy-1.23.4 opencv-python-4.6.0.66\n",
      "\u001b[33mYou are using pip version 19.0.3, however version 22.3 is available.\n",
      "You should consider upgrading via the 'pip install --upgrade pip' command.\u001b[0m\n"
     ]
    }
   ],
   "source": [
    "!pip install opencv-python --user"
   ]
  },
  {
   "cell_type": "code",
   "execution_count": 21,
   "id": "3c55b57a",
   "metadata": {},
   "outputs": [
    {
     "name": "stdout",
     "output_type": "stream",
     "text": [
      "Collecting opencv-contrib-python\n",
      "  Using cached https://files.pythonhosted.org/packages/50/fd/30c8a797422a008c10e39dbdb5fa4e9eef3131a608c5688db4afa954ff7d/opencv_contrib_python-4.6.0.66-cp36-abi3-macosx_10_15_x86_64.whl\n",
      "Collecting numpy>=1.14.5; python_version >= \"3.7\" (from opencv-contrib-python)\n",
      "  Using cached https://files.pythonhosted.org/packages/3c/d0/d7d0b6af9a434b3ee271b02ada553b1c781294bff012b19318886f86c395/numpy-1.23.4-cp38-cp38-macosx_10_9_x86_64.whl\n",
      "Installing collected packages: numpy, opencv-contrib-python\n",
      "\u001b[31mCould not install packages due to an EnvironmentError: [Errno 13] Permission denied: '/Library/Python/3.8/site-packages/numpy-1.23.4.dist-info'\n",
      "Consider using the `--user` option or check the permissions.\n",
      "\u001b[0m\n",
      "\u001b[33mYou are using pip version 19.0.3, however version 22.3 is available.\n",
      "You should consider upgrading via the 'pip install --upgrade pip' command.\u001b[0m\n"
     ]
    }
   ],
   "source": [
    "!pip install opencv-contrib-python"
   ]
  },
  {
   "cell_type": "code",
   "execution_count": 23,
   "id": "cda7c467",
   "metadata": {},
   "outputs": [
    {
     "name": "stdout",
     "output_type": "stream",
     "text": [
      "Collecting numpy==1.17.3\n",
      "  Using cached https://files.pythonhosted.org/packages/91/f4/435888f7a57fb55a893d28d5a1f2f7ff9b6284c1ba69eac28e6efd44e4f0/numpy-1.17.3-cp38-cp38-macosx_10_9_x86_64.whl\n",
      "\u001b[31mmatplotlib 3.6.1 has requirement numpy>=1.19, but you'll have numpy 1.17.3 which is incompatible.\u001b[0m\n",
      "Installing collected packages: numpy\n",
      "\u001b[31mCould not install packages due to an EnvironmentError: [Errno 13] Permission denied: '/Library/Python/3.8/site-packages/numpy-1.17.3.dist-info'\n",
      "Consider using the `--user` option or check the permissions.\n",
      "\u001b[0m\n",
      "\u001b[33mYou are using pip version 19.0.3, however version 22.3 is available.\n",
      "You should consider upgrading via the 'pip install --upgrade pip' command.\u001b[0m\n"
     ]
    }
   ],
   "source": [
    "!pip install 'numpy==1.17.3' --force-reinstall"
   ]
  },
  {
   "cell_type": "code",
   "execution_count": 4,
   "id": "25a6e42e",
   "metadata": {},
   "outputs": [],
   "source": [
    "import cv2 \n",
    "import uuid\n",
    "import os\n",
    "import time"
   ]
  },
  {
   "cell_type": "code",
   "execution_count": 5,
   "id": "ef1058e0",
   "metadata": {},
   "outputs": [],
   "source": [
    "labels = ['A', 'B', 'C', 'D', 'E', 'F', 'G', 'H', 'I', 'J', 'K', 'L', 'M', 'N', 'O', 'P', 'Q', 'R', 'S', 'T', 'U', 'V', 'W', 'X', 'Y', 'Z',]\n",
    "number_imgs = 5\n"
   ]
  },
  {
   "cell_type": "code",
   "execution_count": 6,
   "id": "2d3f60f8",
   "metadata": {},
   "outputs": [],
   "source": [
    "Image_path = os.path.join('Tensorflow', 'workspace', 'images', 'collectedimages')"
   ]
  },
  {
   "cell_type": "code",
   "execution_count": 7,
   "id": "ddf64286",
   "metadata": {},
   "outputs": [],
   "source": [
    "if not os.path.exists(Image_path):\n",
    "        !mkdir -p {Image_path}\n",
    "        "
   ]
  },
  {
   "cell_type": "code",
   "execution_count": 8,
   "id": "3eb8a4b3",
   "metadata": {},
   "outputs": [],
   "source": [
    "for label in labels:\n",
    "    path = os.path.join(Image_path, label)\n",
    "    if not os.path.exists(path):\n",
    "        !mkdir {path}"
   ]
  },
  {
   "cell_type": "code",
   "execution_count": null,
   "id": "3437d54c",
   "metadata": {},
   "outputs": [],
   "source": [
    "for label in labels:\n",
    "    cap = cv2.VideoCapture(0)\n",
    "    print('Collecting images for {}'.format(label))\n",
    "    time.sleep(10)\n",
    "    for imgnum in range(number_imgs):\n",
    "        print('Collecting image {}'.format(imgnum))\n",
    "        ret, frame = cap.read()\n",
    "        imgname = os.path.join(Image_path,label,label+'.'+'{}.jpg'.format(str(uuid.uuid1())))\n",
    "        cv2.imwrite(imgname, frame)\n",
    "        cv2.imshow('frame', frame)\n",
    "        time.sleep(5)\n",
    "\n",
    "        if cv2.waitKey(1) & 0xFF == ord('q'):\n",
    "            break\n",
    "cap.release()\n",
    "cv2.destroyAllWindows()"
   ]
  },
  {
   "cell_type": "code",
   "execution_count": 9,
   "id": "86530160",
   "metadata": {},
   "outputs": [],
   "source": [
    "Labeling_path = os.path.join('Tensorflow', 'labelimg')"
   ]
  },
  {
   "cell_type": "code",
   "execution_count": 10,
   "id": "1ba6c886",
   "metadata": {},
   "outputs": [],
   "source": [
    "if not os.path.exists(Labeling_path):\n",
    "    !mkdir {Labeling_path}\n",
    "    !git clone https://github.com/tzutalin/labelImg {Labeling_path}"
   ]
  },
  {
   "cell_type": "code",
   "execution_count": 11,
   "id": "82139809",
   "metadata": {},
   "outputs": [
    {
     "name": "stdout",
     "output_type": "stream",
     "text": [
      "Requirement already up-to-date: pyqt5 in /Library/Python/3.8/site-packages (5.15.7)\n",
      "Requirement already up-to-date: lxml in /Users/safasalih/Library/Python/3.8/lib/python/site-packages (4.9.1)\n",
      "Requirement already satisfied, skipping upgrade: PyQt5-sip<13,>=12.11 in /Library/Python/3.8/site-packages (from pyqt5) (12.11.0)\n",
      "Requirement already satisfied, skipping upgrade: PyQt5-Qt5>=5.15.0 in /Library/Python/3.8/site-packages (from pyqt5) (5.15.2)\n",
      "\u001b[33mYou are using pip version 19.0.3, however version 22.3 is available.\n",
      "You should consider upgrading via the 'pip install --upgrade pip' command.\u001b[0m\n"
     ]
    }
   ],
   "source": [
    "#!pip install pyqt5 lxml\n",
    "!pip install --upgrade pyqt5 lxml"
   ]
  },
  {
   "cell_type": "code",
   "execution_count": 12,
   "id": "d43ba8e4",
   "metadata": {},
   "outputs": [
    {
     "name": "stdout",
     "output_type": "stream",
     "text": [
      "pyrcc5 -o libs/resources.py resources.qrc\r\n"
     ]
    }
   ],
   "source": [
    "if os.name == 'posix':\n",
    "    !cd {Labeling_path} && make qt5py3"
   ]
  },
  {
   "cell_type": "code",
   "execution_count": 13,
   "id": "6b1ae915",
   "metadata": {
    "scrolled": true
   },
   "outputs": [
    {
     "name": "stdout",
     "output_type": "stream",
     "text": [
      "Image:/Users/safasalih/Desktop/sign/Tensorflow/workspace/images/collectedimages/Train/A.ab9b0c2e-5305-11ed-906f-34363bc7df40.jpg -> Annotation:/Users/safasalih/Desktop/sign/Tensorflow/workspace/images/collectedimages/Train/A.ab9b0c2e-5305-11ed-906f-34363bc7df40.txt\n",
      "Image:/Users/safasalih/Desktop/sign/Tensorflow/workspace/images/collectedimages/Train/A.ab9b0c2e-5305-11ed-906f-34363bc7df40.jpg -> Annotation:/Users/safasalih/Desktop/sign/Tensorflow/workspace/images/collectedimages/Train/A.ab9b0c2e-5305-11ed-906f-34363bc7df40.xml\n",
      "Image:/Users/safasalih/Desktop/sign/Tensorflow/workspace/images/collectedimages/Train/A.aec58104-5305-11ed-906f-34363bc7df40.jpg -> Annotation:/Users/safasalih/Desktop/sign/Tensorflow/workspace/images/collectedimages/Train/A.aec58104-5305-11ed-906f-34363bc7df40.json\n",
      "Image:/Users/safasalih/Desktop/sign/Tensorflow/workspace/images/collectedimages/Train/A.aec58104-5305-11ed-906f-34363bc7df40.jpg -> Annotation:/Users/safasalih/Desktop/sign/Tensorflow/workspace/images/collectedimages/Train/A.aec58104-5305-11ed-906f-34363bc7df40.xml\n",
      "Image:/Users/safasalih/Desktop/sign/Tensorflow/workspace/images/collectedimages/Train/A.b1cc4784-5305-11ed-906f-34363bc7df40.jpg -> Annotation:/Users/safasalih/Desktop/sign/Tensorflow/workspace/images/collectedimages/Train/A.b1cc4784-5305-11ed-906f-34363bc7df40.xml\n",
      "Image:/Users/safasalih/Desktop/sign/Tensorflow/workspace/images/collectedimages/Train/A.b4e38a4a-5305-11ed-906f-34363bc7df40.jpg -> Annotation:/Users/safasalih/Desktop/sign/Tensorflow/workspace/images/collectedimages/Train/A.b4e38a4a-5305-11ed-906f-34363bc7df40.xml\n",
      "Image:/Users/safasalih/Desktop/sign/Tensorflow/workspace/images/collectedimages/Train/B.c0eb10e2-5305-11ed-906f-34363bc7df40.jpg -> Annotation:/Users/safasalih/Desktop/sign/Tensorflow/workspace/images/collectedimages/Train/B.c0eb10e2-5305-11ed-906f-34363bc7df40.xml\n",
      "Image:/Users/safasalih/Desktop/sign/Tensorflow/workspace/images/collectedimages/Train/B.c3fad452-5305-11ed-906f-34363bc7df40.jpg -> Annotation:/Users/safasalih/Desktop/sign/Tensorflow/workspace/images/collectedimages/Train/B.c3fad452-5305-11ed-906f-34363bc7df40.xml\n",
      "Image:/Users/safasalih/Desktop/sign/Tensorflow/workspace/images/collectedimages/Train/B.c70b7f98-5305-11ed-906f-34363bc7df40.jpg -> Annotation:/Users/safasalih/Desktop/sign/Tensorflow/workspace/images/collectedimages/Train/B.c70b7f98-5305-11ed-906f-34363bc7df40.xml\n",
      "Image:/Users/safasalih/Desktop/sign/Tensorflow/workspace/images/collectedimages/Train/B.ca124b54-5305-11ed-906f-34363bc7df40.jpg -> Annotation:/Users/safasalih/Desktop/sign/Tensorflow/workspace/images/collectedimages/Train/B.ca124b54-5305-11ed-906f-34363bc7df40.xml\n",
      "Image:/Users/safasalih/Desktop/sign/Tensorflow/workspace/images/collectedimages/Train/C.d62a3168-5305-11ed-906f-34363bc7df40.jpg -> Annotation:/Users/safasalih/Desktop/sign/Tensorflow/workspace/images/collectedimages/Train/C.d62a3168-5305-11ed-906f-34363bc7df40.xml\n",
      "Image:/Users/safasalih/Desktop/sign/Tensorflow/workspace/images/collectedimages/Train/C.d93159c2-5305-11ed-906f-34363bc7df40.jpg -> Annotation:/Users/safasalih/Desktop/sign/Tensorflow/workspace/images/collectedimages/Train/C.d93159c2-5305-11ed-906f-34363bc7df40.xml\n",
      "Image:/Users/safasalih/Desktop/sign/Tensorflow/workspace/images/collectedimages/Train/C.dc3779e4-5305-11ed-906f-34363bc7df40.jpg -> Annotation:/Users/safasalih/Desktop/sign/Tensorflow/workspace/images/collectedimages/Train/C.dc3779e4-5305-11ed-906f-34363bc7df40.xml\n",
      "Image:/Users/safasalih/Desktop/sign/Tensorflow/workspace/images/collectedimages/Train/C.df3d7b48-5305-11ed-906f-34363bc7df40.jpg -> Annotation:/Users/safasalih/Desktop/sign/Tensorflow/workspace/images/collectedimages/Train/C.df3d7b48-5305-11ed-906f-34363bc7df40.xml\n",
      "Image:/Users/safasalih/Desktop/sign/Tensorflow/workspace/images/collectedimages/Train/D.eb58db98-5305-11ed-906f-34363bc7df40.jpg -> Annotation:/Users/safasalih/Desktop/sign/Tensorflow/workspace/images/collectedimages/Train/D.eb58db98-5305-11ed-906f-34363bc7df40.xml\n",
      "Image:/Users/safasalih/Desktop/sign/Tensorflow/workspace/images/collectedimages/Train/D.ee5ef5c0-5305-11ed-906f-34363bc7df40.jpg -> Annotation:/Users/safasalih/Desktop/sign/Tensorflow/workspace/images/collectedimages/Train/D.ee5ef5c0-5305-11ed-906f-34363bc7df40.xml\n",
      "Image:/Users/safasalih/Desktop/sign/Tensorflow/workspace/images/collectedimages/Train/D.f46b82f8-5305-11ed-906f-34363bc7df40.jpg -> Annotation:/Users/safasalih/Desktop/sign/Tensorflow/workspace/images/collectedimages/Train/D.f46b82f8-5305-11ed-906f-34363bc7df40.xml\n",
      "Image:/Users/safasalih/Desktop/sign/Tensorflow/workspace/images/collectedimages/Train/D.f16564de-5305-11ed-906f-34363bc7df40.jpg -> Annotation:/Users/safasalih/Desktop/sign/Tensorflow/workspace/images/collectedimages/Train/D.f16564de-5305-11ed-906f-34363bc7df40.xml\n",
      "Image:/Users/safasalih/Desktop/sign/Tensorflow/workspace/images/collectedimages/Train/E.0c8d21c0-5306-11ed-906f-34363bc7df40.jpg -> Annotation:/Users/safasalih/Desktop/sign/Tensorflow/workspace/images/collectedimages/Train/E.0c8d21c0-5306-11ed-906f-34363bc7df40.xml\n",
      "Cancel creation.\n",
      "Image:/Users/safasalih/Desktop/sign/Tensorflow/workspace/images/collectedimages/Train/E.067fb860-5306-11ed-906f-34363bc7df40.jpg -> Annotation:/Users/safasalih/Desktop/sign/Tensorflow/workspace/images/collectedimages/Train/E.067fb860-5306-11ed-906f-34363bc7df40.xml\n",
      "Image:/Users/safasalih/Desktop/sign/Tensorflow/workspace/images/collectedimages/Train/E.0379dcc2-5306-11ed-906f-34363bc7df40.jpg -> Annotation:/Users/safasalih/Desktop/sign/Tensorflow/workspace/images/collectedimages/Train/E.0379dcc2-5306-11ed-906f-34363bc7df40.xml\n",
      "Image:/Users/safasalih/Desktop/sign/Tensorflow/workspace/images/collectedimages/Train/E.00720d4c-5306-11ed-906f-34363bc7df40.jpg -> Annotation:/Users/safasalih/Desktop/sign/Tensorflow/workspace/images/collectedimages/Train/E.00720d4c-5306-11ed-906f-34363bc7df40.xml\n",
      "Image:/Users/safasalih/Desktop/sign/Tensorflow/workspace/images/collectedimages/Train/F.1b9a7d5c-5306-11ed-906f-34363bc7df40.jpg -> Annotation:/Users/safasalih/Desktop/sign/Tensorflow/workspace/images/collectedimages/Train/F.1b9a7d5c-5306-11ed-906f-34363bc7df40.xml\n",
      "Image:/Users/safasalih/Desktop/sign/Tensorflow/workspace/images/collectedimages/Train/F.1ea07b50-5306-11ed-906f-34363bc7df40.jpg -> Annotation:/Users/safasalih/Desktop/sign/Tensorflow/workspace/images/collectedimages/Train/F.1ea07b50-5306-11ed-906f-34363bc7df40.xml\n",
      "Image:/Users/safasalih/Desktop/sign/Tensorflow/workspace/images/collectedimages/Train/F.21a78654-5306-11ed-906f-34363bc7df40.jpg -> Annotation:/Users/safasalih/Desktop/sign/Tensorflow/workspace/images/collectedimages/Train/F.21a78654-5306-11ed-906f-34363bc7df40.xml\n",
      "Image:/Users/safasalih/Desktop/sign/Tensorflow/workspace/images/collectedimages/Train/F.158e3ad4-5306-11ed-906f-34363bc7df40.jpg -> Annotation:/Users/safasalih/Desktop/sign/Tensorflow/workspace/images/collectedimages/Train/F.158e3ad4-5306-11ed-906f-34363bc7df40.xml\n",
      "Image:/Users/safasalih/Desktop/sign/Tensorflow/workspace/images/collectedimages/Train/G.2aa6bad6-5306-11ed-906f-34363bc7df40.jpg -> Annotation:/Users/safasalih/Desktop/sign/Tensorflow/workspace/images/collectedimages/Train/G.2aa6bad6-5306-11ed-906f-34363bc7df40.xml\n",
      "Image:/Users/safasalih/Desktop/sign/Tensorflow/workspace/images/collectedimages/Train/G.2db0926a-5306-11ed-906f-34363bc7df40.jpg -> Annotation:/Users/safasalih/Desktop/sign/Tensorflow/workspace/images/collectedimages/Train/G.2db0926a-5306-11ed-906f-34363bc7df40.xml\n",
      "Image:/Users/safasalih/Desktop/sign/Tensorflow/workspace/images/collectedimages/Train/G.30bb1f98-5306-11ed-906f-34363bc7df40.jpg -> Annotation:/Users/safasalih/Desktop/sign/Tensorflow/workspace/images/collectedimages/Train/G.30bb1f98-5306-11ed-906f-34363bc7df40.xml\n",
      "Image:/Users/safasalih/Desktop/sign/Tensorflow/workspace/images/collectedimages/Train/G.33c54e70-5306-11ed-906f-34363bc7df40.jpg -> Annotation:/Users/safasalih/Desktop/sign/Tensorflow/workspace/images/collectedimages/Train/G.33c54e70-5306-11ed-906f-34363bc7df40.xml\n",
      "Image:/Users/safasalih/Desktop/sign/Tensorflow/workspace/images/collectedimages/Train/H.3fd63896-5306-11ed-906f-34363bc7df40.jpg -> Annotation:/Users/safasalih/Desktop/sign/Tensorflow/workspace/images/collectedimages/Train/H.3fd63896-5306-11ed-906f-34363bc7df40.xml\n"
     ]
    },
    {
     "name": "stdout",
     "output_type": "stream",
     "text": [
      "Cancel creation.\n",
      "Image:/Users/safasalih/Desktop/sign/Tensorflow/workspace/images/collectedimages/Train/H.4bfe93de-5306-11ed-906f-34363bc7df40.jpg -> Annotation:/Users/safasalih/Desktop/sign/Tensorflow/workspace/images/collectedimages/Train/H.4bfe93de-5306-11ed-906f-34363bc7df40.xml\n",
      "Image:/Users/safasalih/Desktop/sign/Tensorflow/workspace/images/collectedimages/Train/H.42dffda6-5306-11ed-906f-34363bc7df40.jpg -> Annotation:/Users/safasalih/Desktop/sign/Tensorflow/workspace/images/collectedimages/Train/H.42dffda6-5306-11ed-906f-34363bc7df40.xml\n",
      "Image:/Users/safasalih/Desktop/sign/Tensorflow/workspace/images/collectedimages/Train/H.45eb26b0-5306-11ed-906f-34363bc7df40.jpg -> Annotation:/Users/safasalih/Desktop/sign/Tensorflow/workspace/images/collectedimages/Train/H.45eb26b0-5306-11ed-906f-34363bc7df40.xml\n",
      "Image:/Users/safasalih/Desktop/sign/Tensorflow/workspace/images/collectedimages/Train/I.5b18371c-5306-11ed-906f-34363bc7df40.jpg -> Annotation:/Users/safasalih/Desktop/sign/Tensorflow/workspace/images/collectedimages/Train/I.5b18371c-5306-11ed-906f-34363bc7df40.xml\n",
      "Image:/Users/safasalih/Desktop/sign/Tensorflow/workspace/images/collectedimages/Train/I.5e239b86-5306-11ed-906f-34363bc7df40.jpg -> Annotation:/Users/safasalih/Desktop/sign/Tensorflow/workspace/images/collectedimages/Train/I.5e239b86-5306-11ed-906f-34363bc7df40.xml\n",
      "Image:/Users/safasalih/Desktop/sign/Tensorflow/workspace/images/collectedimages/Train/I.580f505a-5306-11ed-906f-34363bc7df40.jpg -> Annotation:/Users/safasalih/Desktop/sign/Tensorflow/workspace/images/collectedimages/Train/I.580f505a-5306-11ed-906f-34363bc7df40.xml\n",
      "Image:/Users/safasalih/Desktop/sign/Tensorflow/workspace/images/collectedimages/Train/I.612c3978-5306-11ed-906f-34363bc7df40.jpg -> Annotation:/Users/safasalih/Desktop/sign/Tensorflow/workspace/images/collectedimages/Train/I.612c3978-5306-11ed-906f-34363bc7df40.xml\n",
      "Image:/Users/safasalih/Desktop/sign/Tensorflow/workspace/images/collectedimages/Train/J.6a33ce46-5306-11ed-906f-34363bc7df40.jpg -> Annotation:/Users/safasalih/Desktop/sign/Tensorflow/workspace/images/collectedimages/Train/J.6a33ce46-5306-11ed-906f-34363bc7df40.xml\n",
      "Image:/Users/safasalih/Desktop/sign/Tensorflow/workspace/images/collectedimages/Train/J.6d3e1bd2-5306-11ed-906f-34363bc7df40.jpg -> Annotation:/Users/safasalih/Desktop/sign/Tensorflow/workspace/images/collectedimages/Train/J.6d3e1bd2-5306-11ed-906f-34363bc7df40.xml\n",
      "Image:/Users/safasalih/Desktop/sign/Tensorflow/workspace/images/collectedimages/Train/J.765af62c-5306-11ed-906f-34363bc7df40.jpg -> Annotation:/Users/safasalih/Desktop/sign/Tensorflow/workspace/images/collectedimages/Train/J.765af62c-5306-11ed-906f-34363bc7df40.xml\n",
      "Image:/Users/safasalih/Desktop/sign/Tensorflow/workspace/images/collectedimages/Train/J.70481300-5306-11ed-906f-34363bc7df40.jpg -> Annotation:/Users/safasalih/Desktop/sign/Tensorflow/workspace/images/collectedimages/Train/J.70481300-5306-11ed-906f-34363bc7df40.xml\n",
      "Image:/Users/safasalih/Desktop/sign/Tensorflow/workspace/images/collectedimages/Train/K.7f634cc4-5306-11ed-906f-34363bc7df40.jpg -> Annotation:/Users/safasalih/Desktop/sign/Tensorflow/workspace/images/collectedimages/Train/K.7f634cc4-5306-11ed-906f-34363bc7df40.xml\n",
      "Image:/Users/safasalih/Desktop/sign/Tensorflow/workspace/images/collectedimages/Train/K.8b8a1302-5306-11ed-906f-34363bc7df40.jpg -> Annotation:/Users/safasalih/Desktop/sign/Tensorflow/workspace/images/collectedimages/Train/K.8b8a1302-5306-11ed-906f-34363bc7df40.xml\n",
      "Image:/Users/safasalih/Desktop/sign/Tensorflow/workspace/images/collectedimages/Train/K.826cfcbc-5306-11ed-906f-34363bc7df40.jpg -> Annotation:/Users/safasalih/Desktop/sign/Tensorflow/workspace/images/collectedimages/Train/K.826cfcbc-5306-11ed-906f-34363bc7df40.xml\n",
      "Image:/Users/safasalih/Desktop/sign/Tensorflow/workspace/images/collectedimages/Train/K.8880c0c0-5306-11ed-906f-34363bc7df40.jpg -> Annotation:/Users/safasalih/Desktop/sign/Tensorflow/workspace/images/collectedimages/Train/K.8880c0c0-5306-11ed-906f-34363bc7df40.xml\n",
      "Image:/Users/safasalih/Desktop/sign/Tensorflow/workspace/images/collectedimages/Train/L.9aa68488-5306-11ed-906f-34363bc7df40.jpg -> Annotation:/Users/safasalih/Desktop/sign/Tensorflow/workspace/images/collectedimages/Train/L.9aa68488-5306-11ed-906f-34363bc7df40.xml\n",
      "Image:/Users/safasalih/Desktop/sign/Tensorflow/workspace/images/collectedimages/Train/L.9daff6c8-5306-11ed-906f-34363bc7df40.jpg -> Annotation:/Users/safasalih/Desktop/sign/Tensorflow/workspace/images/collectedimages/Train/L.9daff6c8-5306-11ed-906f-34363bc7df40.xml\n",
      "Image:/Users/safasalih/Desktop/sign/Tensorflow/workspace/images/collectedimages/Train/L.979b9bc0-5306-11ed-906f-34363bc7df40.jpg -> Annotation:/Users/safasalih/Desktop/sign/Tensorflow/workspace/images/collectedimages/Train/L.979b9bc0-5306-11ed-906f-34363bc7df40.xml\n",
      "Image:/Users/safasalih/Desktop/sign/Tensorflow/workspace/images/collectedimages/Train/L.9492059a-5306-11ed-906f-34363bc7df40.jpg -> Annotation:/Users/safasalih/Desktop/sign/Tensorflow/workspace/images/collectedimages/Train/L.9492059a-5306-11ed-906f-34363bc7df40.xml\n",
      "Image:/Users/safasalih/Desktop/sign/Tensorflow/workspace/images/collectedimages/Train/M.a9c04292-5306-11ed-906f-34363bc7df40.jpg -> Annotation:/Users/safasalih/Desktop/sign/Tensorflow/workspace/images/collectedimages/Train/M.a9c04292-5306-11ed-906f-34363bc7df40.xml\n",
      "Image:/Users/safasalih/Desktop/sign/Tensorflow/workspace/images/collectedimages/Train/M.acca7458-5306-11ed-906f-34363bc7df40.jpg -> Annotation:/Users/safasalih/Desktop/sign/Tensorflow/workspace/images/collectedimages/Train/M.acca7458-5306-11ed-906f-34363bc7df40.xml\n",
      "Image:/Users/safasalih/Desktop/sign/Tensorflow/workspace/images/collectedimages/Train/M.afd59380-5306-11ed-906f-34363bc7df40.jpg -> Annotation:/Users/safasalih/Desktop/sign/Tensorflow/workspace/images/collectedimages/Train/M.afd59380-5306-11ed-906f-34363bc7df40.xml\n",
      "Image:/Users/safasalih/Desktop/sign/Tensorflow/workspace/images/collectedimages/Train/M.b2ded564-5306-11ed-906f-34363bc7df40.jpg -> Annotation:/Users/safasalih/Desktop/sign/Tensorflow/workspace/images/collectedimages/Train/M.b2ded564-5306-11ed-906f-34363bc7df40.xml\n",
      "Image:/Users/safasalih/Desktop/sign/Tensorflow/workspace/images/collectedimages/Train/N.bef006ac-5306-11ed-906f-34363bc7df40.jpg -> Annotation:/Users/safasalih/Desktop/sign/Tensorflow/workspace/images/collectedimages/Train/N.bef006ac-5306-11ed-906f-34363bc7df40.xml\n",
      "Image:/Users/safasalih/Desktop/sign/Tensorflow/workspace/images/collectedimages/Train/N.c1f9123a-5306-11ed-906f-34363bc7df40.jpg -> Annotation:/Users/safasalih/Desktop/sign/Tensorflow/workspace/images/collectedimages/Train/N.c1f9123a-5306-11ed-906f-34363bc7df40.xml\n",
      "Image:/Users/safasalih/Desktop/sign/Tensorflow/workspace/images/collectedimages/Train/N.c80d9768-5306-11ed-906f-34363bc7df40.jpg -> Annotation:/Users/safasalih/Desktop/sign/Tensorflow/workspace/images/collectedimages/Train/N.c80d9768-5306-11ed-906f-34363bc7df40.xml\n",
      "Image:/Users/safasalih/Desktop/sign/Tensorflow/workspace/images/collectedimages/Train/N.c502e834-5306-11ed-906f-34363bc7df40.jpg -> Annotation:/Users/safasalih/Desktop/sign/Tensorflow/workspace/images/collectedimages/Train/N.c502e834-5306-11ed-906f-34363bc7df40.xml\n",
      "Image:/Users/safasalih/Desktop/sign/Tensorflow/workspace/images/collectedimages/Train/O.d41e6762-5306-11ed-906f-34363bc7df40.jpg -> Annotation:/Users/safasalih/Desktop/sign/Tensorflow/workspace/images/collectedimages/Train/O.d41e6762-5306-11ed-906f-34363bc7df40.xml\n",
      "Image:/Users/safasalih/Desktop/sign/Tensorflow/workspace/images/collectedimages/Train/O.d7292dfc-5306-11ed-906f-34363bc7df40.jpg -> Annotation:/Users/safasalih/Desktop/sign/Tensorflow/workspace/images/collectedimages/Train/O.d7292dfc-5306-11ed-906f-34363bc7df40.xml\n",
      "Image:/Users/safasalih/Desktop/sign/Tensorflow/workspace/images/collectedimages/Train/O.da345940-5306-11ed-906f-34363bc7df40.jpg -> Annotation:/Users/safasalih/Desktop/sign/Tensorflow/workspace/images/collectedimages/Train/O.da345940-5306-11ed-906f-34363bc7df40.xml\n",
      "Image:/Users/safasalih/Desktop/sign/Tensorflow/workspace/images/collectedimages/Train/O.dd3c1696-5306-11ed-906f-34363bc7df40.jpg -> Annotation:/Users/safasalih/Desktop/sign/Tensorflow/workspace/images/collectedimages/Train/O.dd3c1696-5306-11ed-906f-34363bc7df40.xml\n"
     ]
    },
    {
     "name": "stdout",
     "output_type": "stream",
     "text": [
      "Image:/Users/safasalih/Desktop/sign/Tensorflow/workspace/images/collectedimages/Train/P.e9643516-5306-11ed-906f-34363bc7df40.jpg -> Annotation:/Users/safasalih/Desktop/sign/Tensorflow/workspace/images/collectedimages/Train/P.e9643516-5306-11ed-906f-34363bc7df40.xml\n",
      "Image:/Users/safasalih/Desktop/sign/Tensorflow/workspace/images/collectedimages/Train/P.ec6f1e1a-5306-11ed-906f-34363bc7df40.jpg -> Annotation:/Users/safasalih/Desktop/sign/Tensorflow/workspace/images/collectedimages/Train/P.ec6f1e1a-5306-11ed-906f-34363bc7df40.xml\n",
      "Image:/Users/safasalih/Desktop/sign/Tensorflow/workspace/images/collectedimages/Train/P.ef79dc80-5306-11ed-906f-34363bc7df40.jpg -> Annotation:/Users/safasalih/Desktop/sign/Tensorflow/workspace/images/collectedimages/Train/P.ef79dc80-5306-11ed-906f-34363bc7df40.xml\n",
      "Image:/Users/safasalih/Desktop/sign/Tensorflow/workspace/images/collectedimages/Train/P.f58bdf1a-5306-11ed-906f-34363bc7df40.jpg -> Annotation:/Users/safasalih/Desktop/sign/Tensorflow/workspace/images/collectedimages/Train/P.f58bdf1a-5306-11ed-906f-34363bc7df40.xml\n",
      "Image:/Users/safasalih/Desktop/sign/Tensorflow/workspace/images/collectedimages/Train/Q.0abb1c52-5307-11ed-906f-34363bc7df40.jpg -> Annotation:/Users/safasalih/Desktop/sign/Tensorflow/workspace/images/collectedimages/Train/Q.0abb1c52-5307-11ed-906f-34363bc7df40.xml\n",
      "Image:/Users/safasalih/Desktop/sign/Tensorflow/workspace/images/collectedimages/Train/Q.04a86658-5307-11ed-906f-34363bc7df40.jpg -> Annotation:/Users/safasalih/Desktop/sign/Tensorflow/workspace/images/collectedimages/Train/Q.04a86658-5307-11ed-906f-34363bc7df40.xml\n",
      "Image:/Users/safasalih/Desktop/sign/Tensorflow/workspace/images/collectedimages/Train/Q.4f215fb6-526a-11ed-a5e8-34363bc7df40.jpg -> Annotation:/Users/safasalih/Desktop/sign/Tensorflow/workspace/images/collectedimages/Train/Q.4f215fb6-526a-11ed-a5e8-34363bc7df40.xml\n",
      "Image:/Users/safasalih/Desktop/sign/Tensorflow/workspace/images/collectedimages/Train/Q.5b35a7b2-526a-11ed-a5e8-34363bc7df40.jpg -> Annotation:/Users/safasalih/Desktop/sign/Tensorflow/workspace/images/collectedimages/Train/Q.5b35a7b2-526a-11ed-a5e8-34363bc7df40.xml\n",
      "Image:/Users/safasalih/Desktop/sign/Tensorflow/workspace/images/collectedimages/Train/Q.07b0f9f0-5307-11ed-906f-34363bc7df40.jpg -> Annotation:/Users/safasalih/Desktop/sign/Tensorflow/workspace/images/collectedimages/Train/Q.07b0f9f0-5307-11ed-906f-34363bc7df40.xml\n",
      "Image:/Users/safasalih/Desktop/sign/Tensorflow/workspace/images/collectedimages/Train/Q.019ec664-5307-11ed-906f-34363bc7df40.jpg -> Annotation:/Users/safasalih/Desktop/sign/Tensorflow/workspace/images/collectedimages/Train/Q.019ec664-5307-11ed-906f-34363bc7df40.xml\n",
      "Image:/Users/safasalih/Desktop/sign/Tensorflow/workspace/images/collectedimages/Train/Q.552ba790-526a-11ed-a5e8-34363bc7df40.jpg -> Annotation:/Users/safasalih/Desktop/sign/Tensorflow/workspace/images/collectedimages/Train/Q.552ba790-526a-11ed-a5e8-34363bc7df40.xml\n",
      "Image:/Users/safasalih/Desktop/sign/Tensorflow/workspace/images/collectedimages/Train/Q.522658ec-526a-11ed-a5e8-34363bc7df40.jpg -> Annotation:/Users/safasalih/Desktop/sign/Tensorflow/workspace/images/collectedimages/Train/Q.522658ec-526a-11ed-a5e8-34363bc7df40.xml\n",
      "Image:/Users/safasalih/Desktop/sign/Tensorflow/workspace/images/collectedimages/Train/R.1ce10c34-5307-11ed-906f-34363bc7df40.jpg -> Annotation:/Users/safasalih/Desktop/sign/Tensorflow/workspace/images/collectedimages/Train/R.1ce10c34-5307-11ed-906f-34363bc7df40.xml\n",
      "Image:/Users/safasalih/Desktop/sign/Tensorflow/workspace/images/collectedimages/Train/R.1feb1c08-5307-11ed-906f-34363bc7df40.jpg -> Annotation:/Users/safasalih/Desktop/sign/Tensorflow/workspace/images/collectedimages/Train/R.1feb1c08-5307-11ed-906f-34363bc7df40.xml\n",
      "Image:/Users/safasalih/Desktop/sign/Tensorflow/workspace/images/collectedimages/Train/R.13c22796-5307-11ed-906f-34363bc7df40.jpg -> Annotation:/Users/safasalih/Desktop/sign/Tensorflow/workspace/images/collectedimages/Train/R.13c22796-5307-11ed-906f-34363bc7df40.xml\n",
      "Image:/Users/safasalih/Desktop/sign/Tensorflow/workspace/images/collectedimages/Train/R.16cccafe-5307-11ed-906f-34363bc7df40.jpg -> Annotation:/Users/safasalih/Desktop/sign/Tensorflow/workspace/images/collectedimages/Train/R.16cccafe-5307-11ed-906f-34363bc7df40.xml\n",
      "Image:/Users/safasalih/Desktop/sign/Tensorflow/workspace/images/collectedimages/Train/S.2bf4e6a0-5307-11ed-906f-34363bc7df40.jpg -> Annotation:/Users/safasalih/Desktop/sign/Tensorflow/workspace/images/collectedimages/Train/S.2bf4e6a0-5307-11ed-906f-34363bc7df40.xml\n",
      "Image:/Users/safasalih/Desktop/sign/Tensorflow/workspace/images/collectedimages/Train/S.2efed6ee-5307-11ed-906f-34363bc7df40.jpg -> Annotation:/Users/safasalih/Desktop/sign/Tensorflow/workspace/images/collectedimages/Train/S.2efed6ee-5307-11ed-906f-34363bc7df40.xml\n",
      "Image:/Users/safasalih/Desktop/sign/Tensorflow/workspace/images/collectedimages/Train/S.7c620778-526a-11ed-a5e8-34363bc7df40.jpg -> Annotation:/Users/safasalih/Desktop/sign/Tensorflow/workspace/images/collectedimages/Train/S.7c620778-526a-11ed-a5e8-34363bc7df40.xml\n",
      "Image:/Users/safasalih/Desktop/sign/Tensorflow/workspace/images/collectedimages/Train/S.7f67383a-526a-11ed-a5e8-34363bc7df40.jpg -> Annotation:/Users/safasalih/Desktop/sign/Tensorflow/workspace/images/collectedimages/Train/S.7f67383a-526a-11ed-a5e8-34363bc7df40.xml\n",
      "Image:/Users/safasalih/Desktop/sign/Tensorflow/workspace/images/collectedimages/Train/S.28f228dc-5307-11ed-906f-34363bc7df40.jpg -> Annotation:/Users/safasalih/Desktop/sign/Tensorflow/workspace/images/collectedimages/Train/S.28f228dc-5307-11ed-906f-34363bc7df40.xml\n",
      "Image:/Users/safasalih/Desktop/sign/Tensorflow/workspace/images/collectedimages/Train/S.350a2b24-5307-11ed-906f-34363bc7df40.jpg -> Annotation:/Users/safasalih/Desktop/sign/Tensorflow/workspace/images/collectedimages/Train/S.350a2b24-5307-11ed-906f-34363bc7df40.xml\n",
      "Image:/Users/safasalih/Desktop/sign/Tensorflow/workspace/images/collectedimages/Train/S.795cea66-526a-11ed-a5e8-34363bc7df40.jpg -> Annotation:/Users/safasalih/Desktop/sign/Tensorflow/workspace/images/collectedimages/Train/S.795cea66-526a-11ed-a5e8-34363bc7df40.xml\n",
      "Image:/Users/safasalih/Desktop/sign/Tensorflow/workspace/images/collectedimages/Train/S.826b8676-526a-11ed-a5e8-34363bc7df40.jpg -> Annotation:/Users/safasalih/Desktop/sign/Tensorflow/workspace/images/collectedimages/Train/S.826b8676-526a-11ed-a5e8-34363bc7df40.xml\n",
      "Image:/Users/safasalih/Desktop/sign/Tensorflow/workspace/images/collectedimages/Train/T.3e0aede4-5307-11ed-906f-34363bc7df40.jpg -> Annotation:/Users/safasalih/Desktop/sign/Tensorflow/workspace/images/collectedimages/Train/T.3e0aede4-5307-11ed-906f-34363bc7df40.xml\n",
      "Image:/Users/safasalih/Desktop/sign/Tensorflow/workspace/images/collectedimages/Train/T.4a291402-5307-11ed-906f-34363bc7df40.jpg -> Annotation:/Users/safasalih/Desktop/sign/Tensorflow/workspace/images/collectedimages/Train/T.4a291402-5307-11ed-906f-34363bc7df40.xml\n",
      "Cancel creation.\n",
      "Image:/Users/safasalih/Desktop/sign/Tensorflow/workspace/images/collectedimages/Train/T.8e829fe4-526a-11ed-a5e8-34363bc7df40.jpg -> Annotation:/Users/safasalih/Desktop/sign/Tensorflow/workspace/images/collectedimages/Train/T.8e829fe4-526a-11ed-a5e8-34363bc7df40.xml\n",
      "Image:/Users/safasalih/Desktop/sign/Tensorflow/workspace/images/collectedimages/Train/T.9aa0c422-526a-11ed-a5e8-34363bc7df40.jpg -> Annotation:/Users/safasalih/Desktop/sign/Tensorflow/workspace/images/collectedimages/Train/T.9aa0c422-526a-11ed-a5e8-34363bc7df40.xml\n",
      "Image:/Users/safasalih/Desktop/sign/Tensorflow/workspace/images/collectedimages/Train/U.5c4d17be-5307-11ed-906f-34363bc7df40.jpg -> Annotation:/Users/safasalih/Desktop/sign/Tensorflow/workspace/images/collectedimages/Train/U.5c4d17be-5307-11ed-906f-34363bc7df40.xml\n",
      "Image:/Users/safasalih/Desktop/sign/Tensorflow/workspace/images/collectedimages/Train/U.5f55bc90-5307-11ed-906f-34363bc7df40.jpg -> Annotation:/Users/safasalih/Desktop/sign/Tensorflow/workspace/images/collectedimages/Train/U.5f55bc90-5307-11ed-906f-34363bc7df40.xml\n",
      "Image:/Users/safasalih/Desktop/sign/Tensorflow/workspace/images/collectedimages/Train/U.532fec2e-5307-11ed-906f-34363bc7df40.jpg -> Annotation:/Users/safasalih/Desktop/sign/Tensorflow/workspace/images/collectedimages/Train/U.532fec2e-5307-11ed-906f-34363bc7df40.xml\n"
     ]
    },
    {
     "name": "stdout",
     "output_type": "stream",
     "text": [
      "Image:/Users/safasalih/Desktop/sign/Tensorflow/workspace/images/collectedimages/Train/U.5638d728-5307-11ed-906f-34363bc7df40.jpg -> Annotation:/Users/safasalih/Desktop/sign/Tensorflow/workspace/images/collectedimages/Train/U.5638d728-5307-11ed-906f-34363bc7df40.xml\n",
      "Image:/Users/safasalih/Desktop/sign/Tensorflow/workspace/images/collectedimages/Train/V.6b666f70-5307-11ed-906f-34363bc7df40.jpg -> Annotation:/Users/safasalih/Desktop/sign/Tensorflow/workspace/images/collectedimages/Train/V.6b666f70-5307-11ed-906f-34363bc7df40.xml\n",
      "Image:/Users/safasalih/Desktop/sign/Tensorflow/workspace/images/collectedimages/Train/V.6e6f6dde-5307-11ed-906f-34363bc7df40.jpg -> Annotation:/Users/safasalih/Desktop/sign/Tensorflow/workspace/images/collectedimages/Train/V.6e6f6dde-5307-11ed-906f-34363bc7df40.xml\n",
      "Image:/Users/safasalih/Desktop/sign/Tensorflow/workspace/images/collectedimages/Train/V.685cace0-5307-11ed-906f-34363bc7df40.jpg -> Annotation:/Users/safasalih/Desktop/sign/Tensorflow/workspace/images/collectedimages/Train/V.685cace0-5307-11ed-906f-34363bc7df40.xml\n",
      "Image:/Users/safasalih/Desktop/sign/Tensorflow/workspace/images/collectedimages/Train/V.747c8fae-5307-11ed-906f-34363bc7df40.jpg -> Annotation:/Users/safasalih/Desktop/sign/Tensorflow/workspace/images/collectedimages/Train/V.747c8fae-5307-11ed-906f-34363bc7df40.xml\n",
      "Image:/Users/safasalih/Desktop/sign/Tensorflow/workspace/images/collectedimages/Train/W.7d823e46-5307-11ed-906f-34363bc7df40.jpg -> Annotation:/Users/safasalih/Desktop/sign/Tensorflow/workspace/images/collectedimages/Train/W.7d823e46-5307-11ed-906f-34363bc7df40.xml\n",
      "Image:/Users/safasalih/Desktop/sign/Tensorflow/workspace/images/collectedimages/Train/W.89a19eb0-5307-11ed-906f-34363bc7df40.jpg -> Annotation:/Users/safasalih/Desktop/sign/Tensorflow/workspace/images/collectedimages/Train/W.89a19eb0-5307-11ed-906f-34363bc7df40.xml\n",
      "Image:/Users/safasalih/Desktop/sign/Tensorflow/workspace/images/collectedimages/Train/W.838ea806-5307-11ed-906f-34363bc7df40.jpg -> Annotation:/Users/safasalih/Desktop/sign/Tensorflow/workspace/images/collectedimages/Train/W.838ea806-5307-11ed-906f-34363bc7df40.xml\n",
      "Image:/Users/safasalih/Desktop/sign/Tensorflow/workspace/images/collectedimages/Train/W.80855f88-5307-11ed-906f-34363bc7df40.jpg -> Annotation:/Users/safasalih/Desktop/sign/Tensorflow/workspace/images/collectedimages/Train/W.80855f88-5307-11ed-906f-34363bc7df40.xml\n",
      "Image:/Users/safasalih/Desktop/sign/Tensorflow/workspace/images/collectedimages/Train/X.9bc5c8b4-5307-11ed-906f-34363bc7df40.jpg -> Annotation:/Users/safasalih/Desktop/sign/Tensorflow/workspace/images/collectedimages/Train/X.9bc5c8b4-5307-11ed-906f-34363bc7df40.xml\n",
      "Image:/Users/safasalih/Desktop/sign/Tensorflow/workspace/images/collectedimages/Train/X.9ecf203c-5307-11ed-906f-34363bc7df40.jpg -> Annotation:/Users/safasalih/Desktop/sign/Tensorflow/workspace/images/collectedimages/Train/X.9ecf203c-5307-11ed-906f-34363bc7df40.xml\n",
      "Image:/Users/safasalih/Desktop/sign/Tensorflow/workspace/images/collectedimages/Train/X.92a79398-5307-11ed-906f-34363bc7df40.jpg -> Annotation:/Users/safasalih/Desktop/sign/Tensorflow/workspace/images/collectedimages/Train/X.92a79398-5307-11ed-906f-34363bc7df40.xml\n",
      "Image:/Users/safasalih/Desktop/sign/Tensorflow/workspace/images/collectedimages/Train/X.95b28b60-5307-11ed-906f-34363bc7df40.jpg -> Annotation:/Users/safasalih/Desktop/sign/Tensorflow/workspace/images/collectedimages/Train/X.95b28b60-5307-11ed-906f-34363bc7df40.xml\n",
      "Image:/Users/safasalih/Desktop/sign/Tensorflow/workspace/images/collectedimages/Train/Y.a7d60286-5307-11ed-906f-34363bc7df40.jpg -> Annotation:/Users/safasalih/Desktop/sign/Tensorflow/workspace/images/collectedimages/Train/Y.a7d60286-5307-11ed-906f-34363bc7df40.xml\n",
      "Image:/Users/safasalih/Desktop/sign/Tensorflow/workspace/images/collectedimages/Train/Y.aadcf53e-5307-11ed-906f-34363bc7df40.jpg -> Annotation:/Users/safasalih/Desktop/sign/Tensorflow/workspace/images/collectedimages/Train/Y.aadcf53e-5307-11ed-906f-34363bc7df40.xml\n",
      "Image:/Users/safasalih/Desktop/sign/Tensorflow/workspace/images/collectedimages/Train/Y.ade45aba-5307-11ed-906f-34363bc7df40.jpg -> Annotation:/Users/safasalih/Desktop/sign/Tensorflow/workspace/images/collectedimages/Train/Y.ade45aba-5307-11ed-906f-34363bc7df40.xml\n",
      "Image:/Users/safasalih/Desktop/sign/Tensorflow/workspace/images/collectedimages/Train/Y.b0ea6a92-5307-11ed-906f-34363bc7df40.jpg -> Annotation:/Users/safasalih/Desktop/sign/Tensorflow/workspace/images/collectedimages/Train/Y.b0ea6a92-5307-11ed-906f-34363bc7df40.xml\n",
      "Image:/Users/safasalih/Desktop/sign/Tensorflow/workspace/images/collectedimages/Train/Z.bcf766dc-5307-11ed-906f-34363bc7df40.jpg -> Annotation:/Users/safasalih/Desktop/sign/Tensorflow/workspace/images/collectedimages/Train/Z.bcf766dc-5307-11ed-906f-34363bc7df40.xml\n",
      "Image:/Users/safasalih/Desktop/sign/Tensorflow/workspace/images/collectedimages/Train/Z.bffd4a18-5307-11ed-906f-34363bc7df40.jpg -> Annotation:/Users/safasalih/Desktop/sign/Tensorflow/workspace/images/collectedimages/Train/Z.bffd4a18-5307-11ed-906f-34363bc7df40.xml\n",
      "Image:/Users/safasalih/Desktop/sign/Tensorflow/workspace/images/collectedimages/Train/Z.c90e7c9e-5307-11ed-906f-34363bc7df40.jpg -> Annotation:/Users/safasalih/Desktop/sign/Tensorflow/workspace/images/collectedimages/Train/Z.c90e7c9e-5307-11ed-906f-34363bc7df40.xml\n",
      "Image:/Users/safasalih/Desktop/sign/Tensorflow/workspace/images/collectedimages/Train/Z.c3036332-5307-11ed-906f-34363bc7df40.jpg -> Annotation:/Users/safasalih/Desktop/sign/Tensorflow/workspace/images/collectedimages/Train/Z.c3036332-5307-11ed-906f-34363bc7df40.xml\n",
      "Image:/Users/safasalih/Desktop/sign/Tensorflow/workspace/images/collectedimages/Test/A.b7e9d53c-5305-11ed-906f-34363bc7df40.jpg -> Annotation:/Users/safasalih/Desktop/sign/Tensorflow/workspace/images/collectedimages/Test/A.b7e9d53c-5305-11ed-906f-34363bc7df40.xml\n",
      "Image:/Users/safasalih/Desktop/sign/Tensorflow/workspace/images/collectedimages/Test/B.cd23451e-5305-11ed-906f-34363bc7df40.jpg -> Annotation:/Users/safasalih/Desktop/sign/Tensorflow/workspace/images/collectedimages/Test/B.cd23451e-5305-11ed-906f-34363bc7df40.xml\n",
      "Image:/Users/safasalih/Desktop/sign/Tensorflow/workspace/images/collectedimages/Test/C.e24e09c4-5305-11ed-906f-34363bc7df40.jpg -> Annotation:/Users/safasalih/Desktop/sign/Tensorflow/workspace/images/collectedimages/Test/C.e24e09c4-5305-11ed-906f-34363bc7df40.xml\n",
      "Image:/Users/safasalih/Desktop/sign/Tensorflow/workspace/images/collectedimages/Test/D.f771667a-5305-11ed-906f-34363bc7df40.jpg -> Annotation:/Users/safasalih/Desktop/sign/Tensorflow/workspace/images/collectedimages/Test/D.f771667a-5305-11ed-906f-34363bc7df40.xml\n",
      "Image:/Users/safasalih/Desktop/sign/Tensorflow/workspace/images/collectedimages/Test/E.09865b86-5306-11ed-906f-34363bc7df40.jpg -> Annotation:/Users/safasalih/Desktop/sign/Tensorflow/workspace/images/collectedimages/Test/E.09865b86-5306-11ed-906f-34363bc7df40.xml\n",
      "Image:/Users/safasalih/Desktop/sign/Tensorflow/workspace/images/collectedimages/Test/F.189411c2-5306-11ed-906f-34363bc7df40.jpg -> Annotation:/Users/safasalih/Desktop/sign/Tensorflow/workspace/images/collectedimages/Test/F.189411c2-5306-11ed-906f-34363bc7df40.xml\n",
      "Image:/Users/safasalih/Desktop/sign/Tensorflow/workspace/images/collectedimages/Test/G.36ce3186-5306-11ed-906f-34363bc7df40.jpg -> Annotation:/Users/safasalih/Desktop/sign/Tensorflow/workspace/images/collectedimages/Test/G.36ce3186-5306-11ed-906f-34363bc7df40.xml\n",
      "Image:/Users/safasalih/Desktop/sign/Tensorflow/workspace/images/collectedimages/Test/H.48f3759c-5306-11ed-906f-34363bc7df40.jpg -> Annotation:/Users/safasalih/Desktop/sign/Tensorflow/workspace/images/collectedimages/Test/H.48f3759c-5306-11ed-906f-34363bc7df40.xml\n",
      "Image:/Users/safasalih/Desktop/sign/Tensorflow/workspace/images/collectedimages/Test/I.55064062-5306-11ed-906f-34363bc7df40.jpg -> Annotation:/Users/safasalih/Desktop/sign/Tensorflow/workspace/images/collectedimages/Test/I.55064062-5306-11ed-906f-34363bc7df40.xml\n",
      "Image:/Users/safasalih/Desktop/sign/Tensorflow/workspace/images/collectedimages/Test/J.73519508-5306-11ed-906f-34363bc7df40.jpg -> Annotation:/Users/safasalih/Desktop/sign/Tensorflow/workspace/images/collectedimages/Test/J.73519508-5306-11ed-906f-34363bc7df40.xml\n"
     ]
    },
    {
     "name": "stdout",
     "output_type": "stream",
     "text": [
      "Image:/Users/safasalih/Desktop/sign/Tensorflow/workspace/images/collectedimages/Test/K.857605ca-5306-11ed-906f-34363bc7df40.jpg -> Annotation:/Users/safasalih/Desktop/sign/Tensorflow/workspace/images/collectedimages/Test/K.857605ca-5306-11ed-906f-34363bc7df40.xml\n",
      "Image:/Users/safasalih/Desktop/sign/Tensorflow/workspace/images/collectedimages/Test/L.a0ba163c-5306-11ed-906f-34363bc7df40.jpg -> Annotation:/Users/safasalih/Desktop/sign/Tensorflow/workspace/images/collectedimages/Test/L.a0ba163c-5306-11ed-906f-34363bc7df40.xml\n",
      "Image:/Users/safasalih/Desktop/sign/Tensorflow/workspace/images/collectedimages/Test/M.b5ea08e6-5306-11ed-906f-34363bc7df40.jpg -> Annotation:/Users/safasalih/Desktop/sign/Tensorflow/workspace/images/collectedimages/Test/M.b5ea08e6-5306-11ed-906f-34363bc7df40.xml\n",
      "Image:/Users/safasalih/Desktop/sign/Tensorflow/workspace/images/collectedimages/Test/N.cb17050c-5306-11ed-906f-34363bc7df40.jpg -> Annotation:/Users/safasalih/Desktop/sign/Tensorflow/workspace/images/collectedimages/Test/N.cb17050c-5306-11ed-906f-34363bc7df40.xml\n",
      "Image:/Users/safasalih/Desktop/sign/Tensorflow/workspace/images/collectedimages/Test/O.e046f3ba-5306-11ed-906f-34363bc7df40.jpg -> Annotation:/Users/safasalih/Desktop/sign/Tensorflow/workspace/images/collectedimages/Test/O.e046f3ba-5306-11ed-906f-34363bc7df40.xml\n",
      "Image:/Users/safasalih/Desktop/sign/Tensorflow/workspace/images/collectedimages/Test/P.f282991c-5306-11ed-906f-34363bc7df40.jpg -> Annotation:/Users/safasalih/Desktop/sign/Tensorflow/workspace/images/collectedimages/Test/P.f282991c-5306-11ed-906f-34363bc7df40.xml\n",
      "Image:/Users/safasalih/Desktop/sign/Tensorflow/workspace/images/collectedimages/Test/Q.583054c2-526a-11ed-a5e8-34363bc7df40.jpg -> Annotation:/Users/safasalih/Desktop/sign/Tensorflow/workspace/images/collectedimages/Test/Q.583054c2-526a-11ed-a5e8-34363bc7df40.xml\n",
      "Image:/Users/safasalih/Desktop/sign/Tensorflow/workspace/images/collectedimages/Test/Q.fe93444a-5306-11ed-906f-34363bc7df40.jpg -> Annotation:/Users/safasalih/Desktop/sign/Tensorflow/workspace/images/collectedimages/Test/Q.fe93444a-5306-11ed-906f-34363bc7df40.xml\n",
      "Image:/Users/safasalih/Desktop/sign/Tensorflow/workspace/images/collectedimages/Test/R.19d5be04-5307-11ed-906f-34363bc7df40.jpg -> Annotation:/Users/safasalih/Desktop/sign/Tensorflow/workspace/images/collectedimages/Test/R.19d5be04-5307-11ed-906f-34363bc7df40.xml\n",
      "Image:/Users/safasalih/Desktop/sign/Tensorflow/workspace/images/collectedimages/Test/S.3207ecc2-5307-11ed-906f-34363bc7df40.jpg -> Annotation:/Users/safasalih/Desktop/sign/Tensorflow/workspace/images/collectedimages/Test/S.3207ecc2-5307-11ed-906f-34363bc7df40.xml\n",
      "Image:/Users/safasalih/Desktop/sign/Tensorflow/workspace/images/collectedimages/Test/S.85710c42-526a-11ed-a5e8-34363bc7df40.jpg -> Annotation:/Users/safasalih/Desktop/sign/Tensorflow/workspace/images/collectedimages/Test/S.85710c42-526a-11ed-a5e8-34363bc7df40.xml\n",
      "Image:/Users/safasalih/Desktop/sign/Tensorflow/workspace/images/collectedimages/Test/T.9188cb0a-526a-11ed-a5e8-34363bc7df40.jpg -> Annotation:/Users/safasalih/Desktop/sign/Tensorflow/workspace/images/collectedimages/Test/T.9188cb0a-526a-11ed-a5e8-34363bc7df40.xml\n",
      "Image:/Users/safasalih/Desktop/sign/Tensorflow/workspace/images/collectedimages/Test/T.9492b45a-526a-11ed-a5e8-34363bc7df40.jpg -> Annotation:/Users/safasalih/Desktop/sign/Tensorflow/workspace/images/collectedimages/Test/T.9492b45a-526a-11ed-a5e8-34363bc7df40.xml\n",
      "Image:/Users/safasalih/Desktop/sign/Tensorflow/workspace/images/collectedimages/Test/T.47213fb4-5307-11ed-906f-34363bc7df40.jpg -> Annotation:/Users/safasalih/Desktop/sign/Tensorflow/workspace/images/collectedimages/Test/T.47213fb4-5307-11ed-906f-34363bc7df40.xml\n",
      "Image:/Users/safasalih/Desktop/sign/Tensorflow/workspace/images/collectedimages/Test/T.97992738-526a-11ed-a5e8-34363bc7df40.jpg -> Annotation:/Users/safasalih/Desktop/sign/Tensorflow/workspace/images/collectedimages/Test/T.97992738-526a-11ed-a5e8-34363bc7df40.xml\n",
      "Image:/Users/safasalih/Desktop/sign/Tensorflow/workspace/images/collectedimages/Test/U.59438f3a-5307-11ed-906f-34363bc7df40.jpg -> Annotation:/Users/safasalih/Desktop/sign/Tensorflow/workspace/images/collectedimages/Test/U.59438f3a-5307-11ed-906f-34363bc7df40.xml\n",
      "Image:/Users/safasalih/Desktop/sign/Tensorflow/workspace/images/collectedimages/Test/V.7172b00e-5307-11ed-906f-34363bc7df40.jpg -> Annotation:/Users/safasalih/Desktop/sign/Tensorflow/workspace/images/collectedimages/Test/V.7172b00e-5307-11ed-906f-34363bc7df40.xml\n",
      "Image:/Users/safasalih/Desktop/sign/Tensorflow/workspace/images/collectedimages/Test/W.86982e82-5307-11ed-906f-34363bc7df40.jpg -> Annotation:/Users/safasalih/Desktop/sign/Tensorflow/workspace/images/collectedimages/Test/W.86982e82-5307-11ed-906f-34363bc7df40.xml\n",
      "Image:/Users/safasalih/Desktop/sign/Tensorflow/workspace/images/collectedimages/Test/X.98bbe720-5307-11ed-906f-34363bc7df40.jpg -> Annotation:/Users/safasalih/Desktop/sign/Tensorflow/workspace/images/collectedimages/Test/X.98bbe720-5307-11ed-906f-34363bc7df40.xml\n",
      "Image:/Users/safasalih/Desktop/sign/Tensorflow/workspace/images/collectedimages/Test/Y.b3ef2ce6-5307-11ed-906f-34363bc7df40.jpg -> Annotation:/Users/safasalih/Desktop/sign/Tensorflow/workspace/images/collectedimages/Test/Y.b3ef2ce6-5307-11ed-906f-34363bc7df40.xml\n",
      "Image:/Users/safasalih/Desktop/sign/Tensorflow/workspace/images/collectedimages/Test/Z.c6094204-5307-11ed-906f-34363bc7df40.jpg -> Annotation:/Users/safasalih/Desktop/sign/Tensorflow/workspace/images/collectedimages/Test/Z.c6094204-5307-11ed-906f-34363bc7df40.xml\n",
      "^C\n"
     ]
    }
   ],
   "source": [
    "!cd {Labeling_path} && python labelImg.py"
   ]
  },
  {
   "cell_type": "code",
   "execution_count": 23,
   "id": "7204dc20",
   "metadata": {},
   "outputs": [],
   "source": [
    "paths = {\n",
    "    'WORKSPACE_PATH': os.path.join('Tensorflow', 'workspace'),\n",
    "    'APIMODEL_PATH': os.path.join('Tensorflow','models'),\n",
    "    'ANNOTATION_PATH': os.path.join('Tensorflow', 'workspace','annotations')\n",
    "}"
   ]
  },
  {
   "cell_type": "code",
   "execution_count": 24,
   "id": "fcc2c13d",
   "metadata": {},
   "outputs": [],
   "source": [
    "LABEL_MAP_NAME = 'label_map.pbtxt'"
   ]
  },
  {
   "cell_type": "code",
   "execution_count": 25,
   "id": "0ded5b29",
   "metadata": {},
   "outputs": [],
   "source": [
    "files={\n",
    "  'LABELMAP': os.path.join(paths['ANNOTATION_PATH'], LABEL_MAP_NAME)  \n",
    "}"
   ]
  },
  {
   "cell_type": "code",
   "execution_count": 26,
   "id": "9cb25e5f",
   "metadata": {},
   "outputs": [],
   "source": [
    "for path in paths.values():\n",
    "    if not os.path.exists(path):\n",
    "        if os.name == 'posix':\n",
    "            !mkdir -p {path}"
   ]
  },
  {
   "cell_type": "code",
   "execution_count": 27,
   "id": "23e56f61",
   "metadata": {},
   "outputs": [],
   "source": [
    "labels = [{'name':'A', 'id':1}, {'name':'B', 'id':2}, {'name':'C', 'id':3}, {'name':'D', 'id':4},\n",
    "         {'name':'E', 'id':5}, {'name':'F', 'id':6}, {'name':'G', 'id':7}, {'name':'H', 'id':8},\n",
    "         {'name':'I', 'id':9}, {'name':'J', 'id':10}, {'name':'K', 'id':11}, {'name':'L', 'id':12},\n",
    "         {'name':'M', 'id':13}, {'name':'N', 'id':14}, {'name':'O', 'id':15}, {'name':'P', 'id':16},\n",
    "         {'name':'Q', 'id':17}, {'name':'R', 'id':18}, {'name':'S', 'id':19}, {'name':'T', 'id':20},\n",
    "         {'name':'U', 'id':21}, {'name':'V', 'id':22}, {'name':'W', 'id':23}, {'name':'X', 'id':24},\n",
    "         {'name':'Y', 'id':25}, {'name':'Z', 'id':26}]\n",
    "\n",
    "with open(files['LABELMAP'], 'w') as f:\n",
    "    for label in labels:\n",
    "        f.write('item { \\n')\n",
    "        f.write('\\tname:\\'{}\\'\\n'.format(label['name']))\n",
    "        f.write('\\tid:{}\\n'.format(label['id']))\n",
    "        f.write('}\\n')"
   ]
  },
  {
   "cell_type": "code",
   "execution_count": null,
   "id": "6f5411db",
   "metadata": {},
   "outputs": [],
   "source": [
    "TRAIN_PATH = os.path.join('Tensorflow', 'workspace', 'images', 'collectedimages', 'Train')\n",
    "TEST_PATH = os.path.join('Tensorflow', 'workspace', 'images', 'collectedimages', 'Test')\n",
    "ARCHIVE_PATH = os.path.join('Tensorflow', 'workspace', 'images', 'archive.tar.gz')"
   ]
  },
  {
   "cell_type": "code",
   "execution_count": null,
   "id": "b1b2dade",
   "metadata": {},
   "outputs": [],
   "source": [
    "!tar -czf {ARCHIVE_PATH} {TRAIN_PATH} {TEST_PATH}"
   ]
  },
  {
   "cell_type": "markdown",
   "id": "d0e23368",
   "metadata": {},
   "source": [
    "After I collected my data I will manually divide the images into test and train."
   ]
  }
 ],
 "metadata": {
  "kernelspec": {
   "display_name": "tfod",
   "language": "python",
   "name": "tfod"
  },
  "language_info": {
   "codemirror_mode": {
    "name": "ipython",
    "version": 3
   },
   "file_extension": ".py",
   "mimetype": "text/x-python",
   "name": "python",
   "nbconvert_exporter": "python",
   "pygments_lexer": "ipython3",
   "version": "3.8.2"
  }
 },
 "nbformat": 4,
 "nbformat_minor": 5
}
